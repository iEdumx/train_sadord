{
 "cells": [
  {
   "cell_type": "code",
   "execution_count": 1,
   "metadata": {
    "colab": {
     "base_uri": "https://localhost:8080/",
     "height": 136
    },
    "colab_type": "code",
    "executionInfo": {
     "elapsed": 8585,
     "status": "ok",
     "timestamp": 1573014534927,
     "user": {
      "displayName": "Eduardo Bernal Catalán",
      "photoUrl": "https://lh3.googleusercontent.com/a-/AAuE7mBIATmlq1IwDzqbcFS6OApNborauvCDQ2V517njSw=s64",
      "userId": "05605611529294462169"
     },
     "user_tz": 360
    },
    "id": "Pi_erDGRMaJT",
    "outputId": "c7bd3c6c-e4aa-4544-c4b0-b9a4302821d3",
    "scrolled": true
   },
   "outputs": [
    {
     "name": "stdout",
     "output_type": "stream",
     "text": [
      "/home/eduardo/Documentos/Sadord/train_sadord\n",
      "total 56\r\n",
      "drwxr-xr-x 4 eduardo eduardo  4096 nov 10 00:03  data\r\n",
      "drwxr-xr-x 2 eduardo eduardo  4096 nov 10 01:19  modelo\r\n",
      "-rw-r--r-- 1 eduardo eduardo   617 nov 10 00:03  predict.py\r\n",
      "-rw-r--r-- 1 eduardo eduardo  3323 nov 10 01:24  requirements.txt\r\n",
      "-rw-r--r-- 1 eduardo eduardo  2305 nov 10 00:03  train.py\r\n",
      "-rw-r--r-- 1 eduardo eduardo 32783 nov 10 00:03 'TransferLearning(VGG16).ipynb'\r\n"
     ]
    }
   ],
   "source": [
    "#!pip install -r requirements.txt\n",
    "#!git clone https://github.com/iEdumx/train_sadord.git\n",
    "%cd train_sadord/\n",
    "!ls -l\n",
    "#!pip3 freeze > requirements.txt"
   ]
  },
  {
   "cell_type": "code",
   "execution_count": 2,
   "metadata": {
    "colab": {
     "base_uri": "https://localhost:8080/",
     "height": 80
    },
    "colab_type": "code",
    "executionInfo": {
     "elapsed": 10267,
     "status": "ok",
     "timestamp": 1573014536624,
     "user": {
      "displayName": "Eduardo Bernal Catalán",
      "photoUrl": "https://lh3.googleusercontent.com/a-/AAuE7mBIATmlq1IwDzqbcFS6OApNborauvCDQ2V517njSw=s64",
      "userId": "05605611529294462169"
     },
     "user_tz": 360
    },
    "id": "SFfBvRfmu4Ed",
    "outputId": "b8208c35-001d-4fb9-eafe-35ef9c52cbee"
   },
   "outputs": [],
   "source": [
    "import sys\n",
    "import os\n",
    "from tensorflow.python.keras.preprocessing.image import ImageDataGenerator\n",
    "from tensorflow.python.keras import optimizers\n",
    "from tensorflow.python.keras.models import Sequential\n",
    "from tensorflow.python.keras.layers import Dropout, Flatten, Dense, Activation\n",
    "from tensorflow.python.keras.layers import  Convolution2D, MaxPooling2D\n",
    "from tensorflow.python.keras import backend as K\n"
   ]
  },
  {
   "cell_type": "code",
   "execution_count": 3,
   "metadata": {
    "colab": {},
    "colab_type": "code",
    "id": "ixCIHzinPYD4"
   },
   "outputs": [],
   "source": [
    "K.clear_session()"
   ]
  },
  {
   "cell_type": "code",
   "execution_count": 4,
   "metadata": {
    "colab": {},
    "colab_type": "code",
    "id": "6n5PowCePzkJ"
   },
   "outputs": [],
   "source": [
    "data_entrenamiento = './data/train'\n",
    "data_validacion = './data/test'"
   ]
  },
  {
   "cell_type": "code",
   "execution_count": 5,
   "metadata": {
    "colab": {},
    "colab_type": "code",
    "id": "P_Bws05lP1yG"
   },
   "outputs": [],
   "source": [
    "epocas=2\n",
    "longitud, altura = 150, 150\n",
    "batch_size = 20\n",
    "pasos = 2\n",
    "pasos_validacion = 5\n",
    "filtrosConv1 = 32\n",
    "filtrosConv2 = 64\n",
    "tamano_filtro1 = (3, 3)\n",
    "tamano_filtro2 = (2, 2)\n",
    "tamano_pool = (2, 2)\n",
    "clases = 2\n",
    "lr = 0.0005"
   ]
  },
  {
   "cell_type": "code",
   "execution_count": 6,
   "metadata": {
    "colab": {},
    "colab_type": "code",
    "id": "v4KOmgVGP8gO"
   },
   "outputs": [],
   "source": [
    "entrenamiento_datagen = ImageDataGenerator(\n",
    "    rescale=1. / 255,\n",
    "    shear_range=0.2,\n",
    "    zoom_range=0.2,\n",
    "    horizontal_flip=True)"
   ]
  },
  {
   "cell_type": "code",
   "execution_count": 7,
   "metadata": {
    "colab": {},
    "colab_type": "code",
    "id": "bp07kRWdP89_"
   },
   "outputs": [],
   "source": [
    "validacion_datagen = ImageDataGenerator(\n",
    "    rescale=1. / 255)"
   ]
  },
  {
   "cell_type": "code",
   "execution_count": 8,
   "metadata": {
    "colab": {
     "base_uri": "https://localhost:8080/",
     "height": 34
    },
    "colab_type": "code",
    "executionInfo": {
     "elapsed": 10197,
     "status": "ok",
     "timestamp": 1573014536631,
     "user": {
      "displayName": "Eduardo Bernal Catalán",
      "photoUrl": "https://lh3.googleusercontent.com/a-/AAuE7mBIATmlq1IwDzqbcFS6OApNborauvCDQ2V517njSw=s64",
      "userId": "05605611529294462169"
     },
     "user_tz": 360
    },
    "id": "nZpQPA4XQH2R",
    "outputId": "189199e9-a3c3-4ebe-c1b0-95075ff6ff11"
   },
   "outputs": [
    {
     "name": "stdout",
     "output_type": "stream",
     "text": [
      "Found 70 images belonging to 2 classes.\n"
     ]
    }
   ],
   "source": [
    "imagen_entrenamiento = entrenamiento_datagen.flow_from_directory(\n",
    "    data_entrenamiento,\n",
    "    target_size=(altura, longitud),\n",
    "    batch_size=batch_size,\n",
    "    class_mode='categorical')"
   ]
  },
  {
   "cell_type": "code",
   "execution_count": 9,
   "metadata": {
    "colab": {
     "base_uri": "https://localhost:8080/",
     "height": 34
    },
    "colab_type": "code",
    "executionInfo": {
     "elapsed": 10192,
     "status": "ok",
     "timestamp": 1573014536634,
     "user": {
      "displayName": "Eduardo Bernal Catalán",
      "photoUrl": "https://lh3.googleusercontent.com/a-/AAuE7mBIATmlq1IwDzqbcFS6OApNborauvCDQ2V517njSw=s64",
      "userId": "05605611529294462169"
     },
     "user_tz": 360
    },
    "id": "fvkaWduRQAoS",
    "outputId": "379fdd14-caf0-4b49-e509-10a87675f8a0"
   },
   "outputs": [
    {
     "name": "stdout",
     "output_type": "stream",
     "text": [
      "Found 70 images belonging to 2 classes.\n"
     ]
    }
   ],
   "source": [
    "imagen_validacion = validacion_datagen.flow_from_directory(\n",
    "    data_validacion,\n",
    "    target_size=(altura, longitud),\n",
    "    batch_size=batch_size,\n",
    "    class_mode='categorical')"
   ]
  },
  {
   "cell_type": "code",
   "execution_count": 10,
   "metadata": {
    "colab": {
     "base_uri": "https://localhost:8080/",
     "height": 88
    },
    "colab_type": "code",
    "executionInfo": {
     "elapsed": 10185,
     "status": "ok",
     "timestamp": 1573014536635,
     "user": {
      "displayName": "Eduardo Bernal Catalán",
      "photoUrl": "https://lh3.googleusercontent.com/a-/AAuE7mBIATmlq1IwDzqbcFS6OApNborauvCDQ2V517njSw=s64",
      "userId": "05605611529294462169"
     },
     "user_tz": 360
    },
    "id": "xOsgYNzfQCxV",
    "outputId": "9fbe5541-a8dd-4672-b909-c117dedb18d5"
   },
   "outputs": [
    {
     "name": "stdout",
     "output_type": "stream",
     "text": [
      "WARNING:tensorflow:From /home/eduardo/.local/lib/python2.7/site-packages/tensorflow/python/ops/init_ops.py:1251: calling __init__ (from tensorflow.python.ops.init_ops) with dtype is deprecated and will be removed in a future version.\n",
      "Instructions for updating:\n",
      "Call initializer instance with the dtype argument instead of passing it to the constructor\n"
     ]
    }
   ],
   "source": [
    "cnn = Sequential()\n",
    "cnn.add(Convolution2D(filtrosConv1, tamano_filtro1, padding =\"same\", input_shape=(longitud, altura, 3), activation='relu'))\n",
    "cnn.add(MaxPooling2D(pool_size=tamano_pool))"
   ]
  },
  {
   "cell_type": "code",
   "execution_count": 11,
   "metadata": {
    "colab": {},
    "colab_type": "code",
    "id": "56Y-8s8RQE9-"
   },
   "outputs": [],
   "source": [
    "cnn.add(Convolution2D(filtrosConv2, tamano_filtro2, padding =\"same\", activation='relu'))\n",
    "cnn.add(MaxPooling2D(pool_size=tamano_pool))"
   ]
  },
  {
   "cell_type": "code",
   "execution_count": 12,
   "metadata": {
    "colab": {},
    "colab_type": "code",
    "id": "pKGFPJdNSF_H"
   },
   "outputs": [],
   "source": [
    "cnn.add(Flatten())\n",
    "cnn.add(Dense(256, activation='relu'))\n",
    "cnn.add(Dropout(0.5))\n",
    "cnn.add(Dense(clases, activation='softmax'))"
   ]
  },
  {
   "cell_type": "code",
   "execution_count": 13,
   "metadata": {
    "colab": {},
    "colab_type": "code",
    "id": "Y3CZBiurSH5I"
   },
   "outputs": [],
   "source": [
    "cnn.compile(loss='categorical_crossentropy',\n",
    "            optimizer=optimizers.Adam(lr=lr),\n",
    "            metrics=['accuracy'])"
   ]
  },
  {
   "cell_type": "code",
   "execution_count": 14,
   "metadata": {
    "colab": {
     "base_uri": "https://localhost:8080/",
     "height": 374
    },
    "colab_type": "code",
    "executionInfo": {
     "elapsed": 24580,
     "status": "error",
     "timestamp": 1573014551052,
     "user": {
      "displayName": "Eduardo Bernal Catalán",
      "photoUrl": "https://lh3.googleusercontent.com/a-/AAuE7mBIATmlq1IwDzqbcFS6OApNborauvCDQ2V517njSw=s64",
      "userId": "05605611529294462169"
     },
     "user_tz": 360
    },
    "id": "iRCPu-DqQLuv",
    "outputId": "59c9c33a-8ba0-4b7c-dcf3-0d924d925715"
   },
   "outputs": [
    {
     "name": "stdout",
     "output_type": "stream",
     "text": [
      "Epoch 1/2\n",
      "2/2 [==============================] - 16s 8s/step - loss: 2.2959 - acc: 0.5000 - val_loss: 0.8915 - val_acc: 0.5667\n",
      "Epoch 2/2\n",
      "2/2 [==============================] - 13s 7s/step - loss: 1.7754 - acc: 0.5000 - val_loss: 2.2449 - val_acc: 0.4333\n"
     ]
    },
    {
     "data": {
      "text/plain": [
       "<tensorflow.python.keras.callbacks.History at 0x7fecd8e72e90>"
      ]
     },
     "execution_count": 14,
     "metadata": {},
     "output_type": "execute_result"
    }
   ],
   "source": [
    "cnn.fit_generator(\n",
    "    imagen_entrenamiento,\n",
    "    steps_per_epoch=pasos,\n",
    "    epochs=epocas,\n",
    "    validation_data=imagen_validacion,\n",
    "    validation_steps=pasos_validacion)"
   ]
  },
  {
   "cell_type": "code",
   "execution_count": 15,
   "metadata": {
    "colab": {},
    "colab_type": "code",
    "id": "jgMxEPrTQR3N"
   },
   "outputs": [],
   "source": [
    "dir = './modelo/'\n",
    "\n",
    "if not os.path.exists(dir):\n",
    "    os.mkdir(dir)\n",
    "cnn.save('./modelo/modelo.h5')\n",
    "cnn.save_weights('./modelo/pesos.h5')"
   ]
  }
 ],
 "metadata": {
  "accelerator": "GPU",
  "colab": {
   "collapsed_sections": [],
   "name": "Copia de Copia de train.ipynb",
   "provenance": [
    {
     "file_id": "1JG5gfL6rKaZvnj1u648xFt7R-kkAkJRf",
     "timestamp": 1573014575157
    },
    {
     "file_id": "https://github.com/iEdumx/train_sadord/blob/master/train.ipynb",
     "timestamp": 1572923244384
    }
   ],
   "toc_visible": true
  },
  "kernelspec": {
   "display_name": "Python 3",
   "language": "python",
   "name": "python3"
  },
  "language_info": {
   "codemirror_mode": {
    "name": "ipython",
    "version": 2
   },
   "file_extension": ".py",
   "mimetype": "text/x-python",
   "name": "python",
   "nbconvert_exporter": "python",
   "pygments_lexer": "ipython2",
   "version": "2.7.15+"
  }
 },
 "nbformat": 4,
 "nbformat_minor": 1
}
